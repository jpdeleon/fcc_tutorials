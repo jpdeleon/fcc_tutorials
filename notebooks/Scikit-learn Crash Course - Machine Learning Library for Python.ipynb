{
 "cells": [
  {
   "cell_type": "markdown",
   "id": "special-heaven",
   "metadata": {},
   "source": [
    "* https://www.youtube.com/watch?v=0B5eIE_1vpU"
   ]
  },
  {
   "cell_type": "raw",
   "id": "separate-concord",
   "metadata": {},
   "source": [
    "%pip install --upgrade scikit-learn==0.23.0"
   ]
  },
  {
   "cell_type": "code",
   "execution_count": 17,
   "id": "muslim-charleston",
   "metadata": {},
   "outputs": [
    {
     "name": "stdout",
     "output_type": "stream",
     "text": [
      ".. _boston_dataset:\n",
      "\n",
      "Boston house prices dataset\n",
      "---------------------------\n",
      "\n",
      "**Data Set Characteristics:**  \n",
      "\n",
      "    :Number of Instances: 506 \n",
      "\n",
      "    :Number of Attributes: 13 numeric/categorical predictive. Median Value (attribute 14) is usually the target.\n",
      "\n",
      "    :Attribute Information (in order):\n",
      "        - CRIM     per capita crime rate by town\n",
      "        - ZN       proportion of residential land zoned for lots over 25,000 sq.ft.\n",
      "        - INDUS    proportion of non-retail business acres per town\n",
      "        - CHAS     Charles River dummy variable (= 1 if tract bounds river; 0 otherwise)\n",
      "        - NOX      nitric oxides concentration (parts per 10 million)\n",
      "        - RM       average number of rooms per dwelling\n",
      "        - AGE      proportion of owner-occupied units built prior to 1940\n",
      "        - DIS      weighted distances to five Boston employment centres\n",
      "        - RAD      index of accessibility to radial highways\n",
      "        - TAX      full-value property-tax rate per $10,000\n",
      "        - PTRATIO  pupil-teacher ratio by town\n",
      "        - B        1000(Bk - 0.63)^2 where Bk is the proportion of blacks by town\n",
      "        - LSTAT    % lower status of the population\n",
      "        - MEDV     Median value of owner-occupied homes in $1000's\n",
      "\n",
      "    :Missing Attribute Values: None\n",
      "\n",
      "    :Creator: Harrison, D. and Rubinfeld, D.L.\n",
      "\n",
      "This is a copy of UCI ML housing dataset.\n",
      "https://archive.ics.uci.edu/ml/machine-learning-databases/housing/\n",
      "\n",
      "\n",
      "This dataset was taken from the StatLib library which is maintained at Carnegie Mellon University.\n",
      "\n",
      "The Boston house-price data of Harrison, D. and Rubinfeld, D.L. 'Hedonic\n",
      "prices and the demand for clean air', J. Environ. Economics & Management,\n",
      "vol.5, 81-102, 1978.   Used in Belsley, Kuh & Welsch, 'Regression diagnostics\n",
      "...', Wiley, 1980.   N.B. Various transformations are used in the table on\n",
      "pages 244-261 of the latter.\n",
      "\n",
      "The Boston house-price data has been used in many machine learning papers that address regression\n",
      "problems.   \n",
      "     \n",
      ".. topic:: References\n",
      "\n",
      "   - Belsley, Kuh & Welsch, 'Regression diagnostics: Identifying Influential Data and Sources of Collinearity', Wiley, 1980. 244-261.\n",
      "   - Quinlan,R. (1993). Combining Instance-Based and Model-Based Learning. In Proceedings on the Tenth International Conference of Machine Learning, 236-243, University of Massachusetts, Amherst. Morgan Kaufmann.\n",
      "\n"
     ]
    }
   ],
   "source": [
    "from sklearn.datasets import load_boston\n",
    "\n",
    "print(load_boston()['DESCR'])"
   ]
  },
  {
   "cell_type": "code",
   "execution_count": 1,
   "id": "circular-detection",
   "metadata": {},
   "outputs": [],
   "source": [
    "X, y = load_boston(return_X_y=True)"
   ]
  },
  {
   "cell_type": "code",
   "execution_count": 2,
   "id": "hundred-distributor",
   "metadata": {},
   "outputs": [],
   "source": [
    "from sklearn.linear_model import LinearRegression\n",
    "from sklearn.neighbors import KNeighborsRegressor\n",
    "\n",
    "mod1 = LinearRegression().fit(X, y)\n",
    "mod2 = KNeighborsRegressor().fit(X, y)\n",
    "p1 = mod1.predict(X)\n",
    "p2 = mod1.predict(X)"
   ]
  },
  {
   "cell_type": "code",
   "execution_count": 9,
   "id": "usual-compiler",
   "metadata": {},
   "outputs": [
    {
     "data": {
      "text/plain": [
       "Text(0, 0.5, 'y')"
      ]
     },
     "execution_count": 9,
     "metadata": {},
     "output_type": "execute_result"
    },
    {
     "data": {
      "image/png": "[encoded data removed]",
      "text/plain": [
       "<Figure size 432x288 with 1 Axes>"
      ]
     },
     "metadata": {
      "needs_background": "light"
     },
     "output_type": "display_data"
    }
   ],
   "source": [
    "import matplotlib.pyplot as pl\n",
    "\n",
    "pl.plot(p1, y, 'o', label='mod1')\n",
    "pl.plot(p2, y, '.', label='mod2')\n",
    "pl.xlabel('p')\n",
    "pl.ylabel('y')"
   ]
  },
  {
   "cell_type": "markdown",
   "id": "daily-underground",
   "metadata": {},
   "source": [
    "## pipeline"
   ]
  },
  {
   "cell_type": "code",
   "execution_count": 11,
   "id": "macro-bhutan",
   "metadata": {},
   "outputs": [
    {
     "data": {
      "text/plain": [
       "<matplotlib.collections.PathCollection at 0x7f7a0bc71580>"
      ]
     },
     "execution_count": 11,
     "metadata": {},
     "output_type": "execute_result"
    },
    {
     "data": {
      "image/png": "[encoded data removed]",
      "text/plain": [
       "<Figure size 432x288 with 1 Axes>"
      ]
     },
     "metadata": {
      "needs_background": "light"
     },
     "output_type": "display_data"
    }
   ],
   "source": [
    "from sklearn.preprocessing import StandardScaler\n",
    "from sklearn.pipeline import Pipeline\n",
    "\n",
    "pipe = Pipeline([\n",
    "    (\"scale\", StandardScaler()),\n",
    "    (\"model\", KNeighborsRegressor(n_neighbors=1))\n",
    "])\n",
    "p = pipe.fit(X, y).predict(X)\n",
    "pl.scatter(p, y)"
   ]
  },
  {
   "cell_type": "code",
   "execution_count": 12,
   "id": "executed-deviation",
   "metadata": {},
   "outputs": [
    {
     "data": {
      "text/plain": [
       "{'memory': None,\n",
       " 'steps': [('scale', StandardScaler()),\n",
       "  ('model', KNeighborsRegressor(n_neighbors=1))],\n",
       " 'verbose': False,\n",
       " 'scale': StandardScaler(),\n",
       " 'model': KNeighborsRegressor(n_neighbors=1),\n",
       " 'scale__copy': True,\n",
       " 'scale__with_mean': True,\n",
       " 'scale__with_std': True,\n",
       " 'model__algorithm': 'auto',\n",
       " 'model__leaf_size': 30,\n",
       " 'model__metric': 'minkowski',\n",
       " 'model__metric_params': None,\n",
       " 'model__n_jobs': None,\n",
       " 'model__n_neighbors': 1,\n",
       " 'model__p': 2,\n",
       " 'model__weights': 'uniform'}"
      ]
     },
     "execution_count": 12,
     "metadata": {},
     "output_type": "execute_result"
    }
   ],
   "source": [
    "pipe.get_params()"
   ]
  },
  {
   "cell_type": "code",
   "execution_count": 13,
   "id": "raising-export",
   "metadata": {},
   "outputs": [
    {
     "data": {
      "text/plain": [
       "GridSearchCV(cv=3,\n",
       "             estimator=Pipeline(steps=[('scale', StandardScaler()),\n",
       "                                       ('model',\n",
       "                                        KNeighborsRegressor(n_neighbors=1))]),\n",
       "             param_grid={'model__n_neighbors': [1, 2, 3, 4, 5]})"
      ]
     },
     "execution_count": 13,
     "metadata": {},
     "output_type": "execute_result"
    }
   ],
   "source": [
    "from sklearn.model_selection import GridSearchCV\n",
    "\n",
    "mod = GridSearchCV(estimator=pipe,\n",
    "                   param_grid={\n",
    "                       'model__n_neighbors': [1,2,3,4,5]\n",
    "                       \n",
    "                   },\n",
    "                   cv=3\n",
    ")\n",
    "mod.fit(X, y)"
   ]
  },
  {
   "cell_type": "code",
   "execution_count": 15,
   "id": "executed-wages",
   "metadata": {},
   "outputs": [
    {
     "data": {
      "text/html": [
       "<div>\n",
       "<style scoped>\n",
       "    .dataframe tbody tr th:only-of-type {\n",
       "        vertical-align: middle;\n",
       "    }\n",
       "\n",
       "    .dataframe tbody tr th {\n",
       "        vertical-align: top;\n",
       "    }\n",
       "\n",
       "    .dataframe thead th {\n",
       "        text-align: right;\n",
       "    }\n",
       "</style>\n",
       "<table border=\"1\" class=\"dataframe\">\n",
       "  <thead>\n",
       "    <tr style=\"text-align: right;\">\n",
       "      <th></th>\n",
       "      <th>mean_fit_time</th>\n",
       "      <th>std_fit_time</th>\n",
       "      <th>mean_score_time</th>\n",
       "      <th>std_score_time</th>\n",
       "      <th>param_model__n_neighbors</th>\n",
       "      <th>params</th>\n",
       "      <th>split0_test_score</th>\n",
       "      <th>split1_test_score</th>\n",
       "      <th>split2_test_score</th>\n",
       "      <th>mean_test_score</th>\n",
       "      <th>std_test_score</th>\n",
       "      <th>rank_test_score</th>\n",
       "    </tr>\n",
       "  </thead>\n",
       "  <tbody>\n",
       "    <tr>\n",
       "      <th>0</th>\n",
       "      <td>0.001022</td>\n",
       "      <td>0.000101</td>\n",
       "      <td>0.001343</td>\n",
       "      <td>0.000108</td>\n",
       "      <td>1</td>\n",
       "      <td>{'model__n_neighbors': 1}</td>\n",
       "      <td>0.226933</td>\n",
       "      <td>0.432998</td>\n",
       "      <td>0.127635</td>\n",
       "      <td>0.262522</td>\n",
       "      <td>0.127179</td>\n",
       "      <td>5</td>\n",
       "    </tr>\n",
       "    <tr>\n",
       "      <th>1</th>\n",
       "      <td>0.000840</td>\n",
       "      <td>0.000038</td>\n",
       "      <td>0.001354</td>\n",
       "      <td>0.000162</td>\n",
       "      <td>2</td>\n",
       "      <td>{'model__n_neighbors': 2}</td>\n",
       "      <td>0.358216</td>\n",
       "      <td>0.409229</td>\n",
       "      <td>0.172294</td>\n",
       "      <td>0.313246</td>\n",
       "      <td>0.101821</td>\n",
       "      <td>4</td>\n",
       "    </tr>\n",
       "    <tr>\n",
       "      <th>2</th>\n",
       "      <td>0.000856</td>\n",
       "      <td>0.000042</td>\n",
       "      <td>0.001384</td>\n",
       "      <td>0.000035</td>\n",
       "      <td>3</td>\n",
       "      <td>{'model__n_neighbors': 3}</td>\n",
       "      <td>0.413515</td>\n",
       "      <td>0.476651</td>\n",
       "      <td>0.318534</td>\n",
       "      <td>0.402900</td>\n",
       "      <td>0.064986</td>\n",
       "      <td>1</td>\n",
       "    </tr>\n",
       "    <tr>\n",
       "      <th>3</th>\n",
       "      <td>0.000797</td>\n",
       "      <td>0.000008</td>\n",
       "      <td>0.001366</td>\n",
       "      <td>0.000094</td>\n",
       "      <td>4</td>\n",
       "      <td>{'model__n_neighbors': 4}</td>\n",
       "      <td>0.475349</td>\n",
       "      <td>0.402495</td>\n",
       "      <td>0.273014</td>\n",
       "      <td>0.383619</td>\n",
       "      <td>0.083675</td>\n",
       "      <td>2</td>\n",
       "    </tr>\n",
       "    <tr>\n",
       "      <th>4</th>\n",
       "      <td>0.000838</td>\n",
       "      <td>0.000009</td>\n",
       "      <td>0.001420</td>\n",
       "      <td>0.000076</td>\n",
       "      <td>5</td>\n",
       "      <td>{'model__n_neighbors': 5}</td>\n",
       "      <td>0.512318</td>\n",
       "      <td>0.347951</td>\n",
       "      <td>0.262590</td>\n",
       "      <td>0.374286</td>\n",
       "      <td>0.103638</td>\n",
       "      <td>3</td>\n",
       "    </tr>\n",
       "  </tbody>\n",
       "</table>\n",
       "</div>"
      ],
      "text/plain": [
       "   mean_fit_time  std_fit_time  mean_score_time  std_score_time  \\\n",
       "0       0.001022      0.000101         0.001343        0.000108   \n",
       "1       0.000840      0.000038         0.001354        0.000162   \n",
       "2       0.000856      0.000042         0.001384        0.000035   \n",
       "3       0.000797      0.000008         0.001366        0.000094   \n",
       "4       0.000838      0.000009         0.001420        0.000076   \n",
       "\n",
       "  param_model__n_neighbors                     params  split0_test_score  \\\n",
       "0                        1  {'model__n_neighbors': 1}           0.226933   \n",
       "1                        2  {'model__n_neighbors': 2}           0.358216   \n",
       "2                        3  {'model__n_neighbors': 3}           0.413515   \n",
       "3                        4  {'model__n_neighbors': 4}           0.475349   \n",
       "4                        5  {'model__n_neighbors': 5}           0.512318   \n",
       "\n",
       "   split1_test_score  split2_test_score  mean_test_score  std_test_score  \\\n",
       "0           0.432998           0.127635         0.262522        0.127179   \n",
       "1           0.409229           0.172294         0.313246        0.101821   \n",
       "2           0.476651           0.318534         0.402900        0.064986   \n",
       "3           0.402495           0.273014         0.383619        0.083675   \n",
       "4           0.347951           0.262590         0.374286        0.103638   \n",
       "\n",
       "   rank_test_score  \n",
       "0                5  \n",
       "1                4  \n",
       "2                1  \n",
       "3                2  \n",
       "4                3  "
      ]
     },
     "execution_count": 15,
     "metadata": {},
     "output_type": "execute_result"
    }
   ],
   "source": [
    "import pandas as pd\n",
    "\n",
    "df=pd.DataFrame(mod.cv_results_)\n",
    "df.head()"
   ]
  },
  {
   "cell_type": "markdown",
   "id": "friendly-kingdom",
   "metadata": {},
   "source": [
    "## preprocessing: transform"
   ]
  },
  {
   "cell_type": "code",
   "execution_count": 43,
   "id": "equipped-oregon",
   "metadata": {},
   "outputs": [
    {
     "data": {
      "text/plain": [
       "(100, 1)"
      ]
     },
     "execution_count": 43,
     "metadata": {},
     "output_type": "execute_result"
    },
    {
     "data": {
      "image/png": "[encoded data removed]",
      "text/plain": [
       "<Figure size 432x288 with 1 Axes>"
      ]
     },
     "metadata": {
      "needs_background": "light"
     },
     "output_type": "display_data"
    }
   ],
   "source": [
    "import numpy as np\n",
    "\n",
    "X = np.random.rand(100)\n",
    "X = np.c_[X**2 + np.sqrt(1/X)]  #np.atleast_2d(X).T\n",
    "pl.plot(X, '.')\n",
    "X.shape"
   ]
  },
  {
   "cell_type": "code",
   "execution_count": 46,
   "id": "disciplinary-handling",
   "metadata": {},
   "outputs": [
    {
     "name": "stderr",
     "output_type": "stream",
     "text": [
      "/home/jerome/miniconda3/envs/py3/lib/python3.8/site-packages/sklearn/preprocessing/_data.py:2367: UserWarning: n_quantiles (1000) is greater than the total number of samples (100). n_quantiles is set to n_samples.\n",
      "  warnings.warn(\"n_quantiles (%s) is greater than the total number \"\n"
     ]
    },
    {
     "data": {
      "text/plain": [
       "<matplotlib.legend.Legend at 0x7f7a040bcdf0>"
      ]
     },
     "execution_count": 46,
     "metadata": {},
     "output_type": "execute_result"
    },
    {
     "data": {
      "image/png": "[encoded data removed]",
      "text/plain": [
       "<Figure size 432x288 with 1 Axes>"
      ]
     },
     "metadata": {
      "needs_background": "light"
     },
     "output_type": "display_data"
    }
   ],
   "source": [
    "from sklearn.preprocessing import QuantileTransformer\n",
    "\n",
    "X1 = StandardScaler().fit_transform(X)\n",
    "X2 = QuantileTransformer().fit_transform(X)\n",
    "X3 = QuantileTransformer(n_quantiles=100).fit_transform(X)\n",
    "\n",
    "pl.plot(X1, '.', label='ss')\n",
    "pl.plot(X2, '.', label='qt')\n",
    "pl.plot(X3, '.', label='qt100')\n",
    "pl.legend()"
   ]
  },
  {
   "cell_type": "markdown",
   "id": "cooperative-roots",
   "metadata": {},
   "source": [
    "## data\n",
    "* https://drawdata.xyz/"
   ]
  },
  {
   "cell_type": "code",
   "execution_count": 48,
   "id": "effective-review",
   "metadata": {},
   "outputs": [
    {
     "data": {
      "text/html": [
       "<div>\n",
       "<style scoped>\n",
       "    .dataframe tbody tr th:only-of-type {\n",
       "        vertical-align: middle;\n",
       "    }\n",
       "\n",
       "    .dataframe tbody tr th {\n",
       "        vertical-align: top;\n",
       "    }\n",
       "\n",
       "    .dataframe thead th {\n",
       "        text-align: right;\n",
       "    }\n",
       "</style>\n",
       "<table border=\"1\" class=\"dataframe\">\n",
       "  <thead>\n",
       "    <tr style=\"text-align: right;\">\n",
       "      <th></th>\n",
       "      <th>x</th>\n",
       "      <th>y</th>\n",
       "      <th>z</th>\n",
       "    </tr>\n",
       "  </thead>\n",
       "  <tbody>\n",
       "    <tr>\n",
       "      <th>0</th>\n",
       "      <td>106.782446</td>\n",
       "      <td>435.008385</td>\n",
       "      <td>a</td>\n",
       "    </tr>\n",
       "    <tr>\n",
       "      <th>1</th>\n",
       "      <td>110.144904</td>\n",
       "      <td>405.057295</td>\n",
       "      <td>a</td>\n",
       "    </tr>\n",
       "    <tr>\n",
       "      <th>2</th>\n",
       "      <td>143.645950</td>\n",
       "      <td>427.624434</td>\n",
       "      <td>a</td>\n",
       "    </tr>\n",
       "    <tr>\n",
       "      <th>3</th>\n",
       "      <td>88.081516</td>\n",
       "      <td>353.193919</td>\n",
       "      <td>a</td>\n",
       "    </tr>\n",
       "    <tr>\n",
       "      <th>4</th>\n",
       "      <td>72.181487</td>\n",
       "      <td>396.674808</td>\n",
       "      <td>a</td>\n",
       "    </tr>\n",
       "    <tr>\n",
       "      <th>...</th>\n",
       "      <td>...</td>\n",
       "      <td>...</td>\n",
       "      <td>...</td>\n",
       "    </tr>\n",
       "    <tr>\n",
       "      <th>209</th>\n",
       "      <td>568.258373</td>\n",
       "      <td>423.970616</td>\n",
       "      <td>c</td>\n",
       "    </tr>\n",
       "    <tr>\n",
       "      <th>210</th>\n",
       "      <td>576.481802</td>\n",
       "      <td>415.568043</td>\n",
       "      <td>c</td>\n",
       "    </tr>\n",
       "    <tr>\n",
       "      <th>211</th>\n",
       "      <td>512.613138</td>\n",
       "      <td>462.397560</td>\n",
       "      <td>c</td>\n",
       "    </tr>\n",
       "    <tr>\n",
       "      <th>212</th>\n",
       "      <td>540.089139</td>\n",
       "      <td>412.470701</td>\n",
       "      <td>c</td>\n",
       "    </tr>\n",
       "    <tr>\n",
       "      <th>213</th>\n",
       "      <td>523.897321</td>\n",
       "      <td>441.706460</td>\n",
       "      <td>c</td>\n",
       "    </tr>\n",
       "  </tbody>\n",
       "</table>\n",
       "<p>214 rows × 3 columns</p>\n",
       "</div>"
      ],
      "text/plain": [
       "              x           y  z\n",
       "0    106.782446  435.008385  a\n",
       "1    110.144904  405.057295  a\n",
       "2    143.645950  427.624434  a\n",
       "3     88.081516  353.193919  a\n",
       "4     72.181487  396.674808  a\n",
       "..          ...         ... ..\n",
       "209  568.258373  423.970616  c\n",
       "210  576.481802  415.568043  c\n",
       "211  512.613138  462.397560  c\n",
       "212  540.089139  412.470701  c\n",
       "213  523.897321  441.706460  c\n",
       "\n",
       "[214 rows x 3 columns]"
      ]
     },
     "execution_count": 48,
     "metadata": {},
     "output_type": "execute_result"
    }
   ],
   "source": [
    "d = pd.read_clipboard(sep=\",\")\n",
    "d"
   ]
  },
  {
   "cell_type": "markdown",
   "id": "e38a0beb",
   "metadata": {},
   "source": [
    "## metric\n",
    "* data: https://www.kaggle.com/mlg-ulb/creditcardfraud"
   ]
  },
  {
   "cell_type": "code",
   "execution_count": 1,
   "id": "8885a3e5",
   "metadata": {
    "ExecuteTime": {
     "end_time": "2022-02-25T11:31:04.071982Z",
     "start_time": "2022-02-25T11:31:00.706155Z"
    }
   },
   "outputs": [],
   "source": [
    "import numpy as np\n",
    "import pandas as pd\n",
    "import matplotlib.pylab as pl\n",
    "\n",
    "data = pd.read_csv(\"../data/creditcard.csv.zip\", compression=\"zip\")"
   ]
  },
  {
   "cell_type": "code",
   "execution_count": 2,
   "id": "237903fb",
   "metadata": {
    "ExecuteTime": {
     "end_time": "2022-02-25T11:31:04.079350Z",
     "start_time": "2022-02-25T11:31:04.073919Z"
    }
   },
   "outputs": [
    {
     "data": {
      "text/plain": [
       "(284807, 31)"
      ]
     },
     "execution_count": 2,
     "metadata": {},
     "output_type": "execute_result"
    }
   ],
   "source": [
    "data.shape"
   ]
  },
  {
   "cell_type": "code",
   "execution_count": 3,
   "id": "90d58976",
   "metadata": {
    "ExecuteTime": {
     "end_time": "2022-02-25T11:31:04.140599Z",
     "start_time": "2022-02-25T11:31:04.081450Z"
    }
   },
   "outputs": [
    {
     "data": {
      "text/plain": [
       "492"
      ]
     },
     "execution_count": 3,
     "metadata": {},
     "output_type": "execute_result"
    }
   ],
   "source": [
    "X = data.drop(columns=[\"Time\",\"Amount\",\"Class\"]).values\n",
    "y = data[\"Class\"].values\n",
    "y.sum()"
   ]
  },
  {
   "cell_type": "markdown",
   "id": "53137aa7",
   "metadata": {},
   "source": [
    "There is only 492 fraud cases out of total 284k cases! Dataset is imbalanced."
   ]
  },
  {
   "cell_type": "code",
   "execution_count": 4,
   "id": "69726b3a",
   "metadata": {
    "ExecuteTime": {
     "end_time": "2022-02-25T11:31:08.441389Z",
     "start_time": "2022-02-25T11:31:04.146473Z"
    }
   },
   "outputs": [
    {
     "data": {
      "text/plain": [
       "348"
      ]
     },
     "execution_count": 4,
     "metadata": {},
     "output_type": "execute_result"
    }
   ],
   "source": [
    "from sklearn.linear_model import LogisticRegression\n",
    "\n",
    "mod = LogisticRegression()\n",
    "yhat = mod.fit(X, y).predict(X)\n",
    "yhat.sum()"
   ]
  },
  {
   "cell_type": "markdown",
   "id": "18f5d1dc",
   "metadata": {},
   "source": [
    "Predicted fraud cases are much less than the actual. So introduce weighting."
   ]
  },
  {
   "cell_type": "code",
   "execution_count": 5,
   "id": "8e89ac30",
   "metadata": {
    "ExecuteTime": {
     "end_time": "2022-02-25T11:32:49.858590Z",
     "start_time": "2022-02-25T11:32:45.970954Z"
    }
   },
   "outputs": [
    {
     "data": {
      "text/plain": [
       "437"
      ]
     },
     "execution_count": 5,
     "metadata": {},
     "output_type": "execute_result"
    }
   ],
   "source": [
    "#class 0=no fraud: assign weight of 1; and class 1=fraud assign weight of 2\n",
    "mod = LogisticRegression(class_weight={0: 1, 1: 2}, max_iter=1000)\n",
    "yhat = mod.fit(X, y).predict(X)\n",
    "yhat.sum()"
   ]
  },
  {
   "cell_type": "markdown",
   "id": "7d041de3",
   "metadata": {},
   "source": [
    "Prediction improved!"
   ]
  },
  {
   "cell_type": "code",
   "execution_count": null,
   "id": "dac4c51e",
   "metadata": {
    "ExecuteTime": {
     "end_time": "2022-02-25T10:10:36.941675Z",
     "start_time": "2022-02-25T10:10:23.453134Z"
    }
   },
   "outputs": [],
   "source": [
    "from sklearn.model_selection import GridSearchCV\n",
    "\n",
    "grid = GridSearchCV(\n",
    "    estimator=LogisticRegression(max_iter=1000),\n",
    "    param_grid={'class_weight': [{0: 1, 1: v} for v in range(1,4)]},\n",
    "    cv=4,\n",
    "    n_jobs=-1\n",
    ")\n",
    "grid.fit(X, y)"
   ]
  },
  {
   "cell_type": "code",
   "execution_count": null,
   "id": "7abaa2f8",
   "metadata": {
    "ExecuteTime": {
     "end_time": "2022-02-25T10:11:06.549577Z",
     "start_time": "2022-02-25T10:11:06.507011Z"
    }
   },
   "outputs": [],
   "source": [
    "import pandas as pd\n",
    "\n",
    "pd.DataFrame(grid.cv_results_)"
   ]
  },
  {
   "cell_type": "markdown",
   "id": "4dea21cb",
   "metadata": {},
   "source": [
    "What is the scoring method?"
   ]
  },
  {
   "cell_type": "code",
   "execution_count": 20,
   "id": "9b7a3cfa",
   "metadata": {
    "ExecuteTime": {
     "end_time": "2022-02-25T10:12:51.309123Z",
     "start_time": "2022-02-25T10:12:51.302142Z"
    }
   },
   "outputs": [],
   "source": [
    "lr = LogisticRegression()\n",
    "lr.score?"
   ]
  },
  {
   "cell_type": "markdown",
   "id": "8add6ba1",
   "metadata": {},
   "source": [
    "Use different scoring metrics:\n",
    "* precision_score: given that I predict fraud, how accurate am I?\n",
    "* recall_score: did I get all the fraud cases?"
   ]
  },
  {
   "cell_type": "code",
   "execution_count": null,
   "id": "ae196ba7",
   "metadata": {
    "ExecuteTime": {
     "end_time": "2022-02-25T11:44:43.760554Z",
     "start_time": "2022-02-25T11:44:43.633242Z"
    }
   },
   "outputs": [],
   "source": [
    "from sklearn.metrics import precision_score, recall_score\n",
    "\n",
    "\n",
    "precision_score(y, grid.predict(X)), recall_score(y, grid.predict(X))"
   ]
  },
  {
   "cell_type": "markdown",
   "id": "1185e851",
   "metadata": {},
   "source": [
    "Add precision and recall to grid search"
   ]
  },
  {
   "cell_type": "code",
   "execution_count": 7,
   "id": "9eb4ea17",
   "metadata": {
    "ExecuteTime": {
     "end_time": "2022-02-25T11:45:19.477302Z",
     "start_time": "2022-02-25T11:44:51.168700Z"
    }
   },
   "outputs": [
    {
     "data": {
      "text/plain": [
       "GridSearchCV(cv=4, estimator=LogisticRegression(max_iter=1000), n_jobs=-1,\n",
       "             param_grid={'class_weight': [{0: 1, 1: 1}, {0: 1, 1: 2},\n",
       "                                          {0: 1, 1: 3}, {0: 1, 1: 4},\n",
       "                                          {0: 1, 1: 5}, {0: 1, 1: 6},\n",
       "                                          {0: 1, 1: 7}, {0: 1, 1: 8},\n",
       "                                          {0: 1, 1: 9}]},\n",
       "             refit='precision', return_train_score=True,\n",
       "             scoring={'precision': make_scorer(precision_score),\n",
       "                      'recall': make_scorer(recall_score)})"
      ]
     },
     "execution_count": 7,
     "metadata": {},
     "output_type": "execute_result"
    }
   ],
   "source": [
    "from sklearn.model_selection import GridSearchCV\n",
    "from sklearn.metrics import make_scorer\n",
    "\n",
    "grid = GridSearchCV(\n",
    "    estimator=LogisticRegression(max_iter=1000),\n",
    "    param_grid={'class_weight': [{0: 1, 1: v} for v in range(1,10)]},\n",
    "    #additional\n",
    "    scoring={'precision': make_scorer(precision_score),\n",
    "             'recall': make_scorer(recall_score)\n",
    "            },\n",
    "    refit='precision',\n",
    "    return_train_score=True,\n",
    "    cv=4,\n",
    "    n_jobs=-1\n",
    ")\n",
    "grid.fit(X, y)"
   ]
  },
  {
   "cell_type": "code",
   "execution_count": 8,
   "id": "52b439fb",
   "metadata": {
    "ExecuteTime": {
     "end_time": "2022-02-25T11:45:19.491943Z",
     "start_time": "2022-02-25T11:45:19.480141Z"
    }
   },
   "outputs": [
    {
     "data": {
      "text/plain": [
       "Index(['mean_fit_time', 'std_fit_time', 'mean_score_time', 'std_score_time',\n",
       "       'param_class_weight', 'params', 'split0_test_precision',\n",
       "       'split1_test_precision', 'split2_test_precision',\n",
       "       'split3_test_precision', 'mean_test_precision', 'std_test_precision',\n",
       "       'rank_test_precision', 'split0_train_precision',\n",
       "       'split1_train_precision', 'split2_train_precision',\n",
       "       'split3_train_precision', 'mean_train_precision', 'std_train_precision',\n",
       "       'split0_test_recall', 'split1_test_recall', 'split2_test_recall',\n",
       "       'split3_test_recall', 'mean_test_recall', 'std_test_recall',\n",
       "       'rank_test_recall', 'split0_train_recall', 'split1_train_recall',\n",
       "       'split2_train_recall', 'split3_train_recall', 'mean_train_recall',\n",
       "       'std_train_recall'],\n",
       "      dtype='object')"
      ]
     },
     "execution_count": 8,
     "metadata": {},
     "output_type": "execute_result"
    }
   ],
   "source": [
    "df = pd.DataFrame(grid.cv_results_)\n",
    "df.columns"
   ]
  },
  {
   "cell_type": "markdown",
   "id": "b5f27b32",
   "metadata": {},
   "source": [
    "Improvements:\n",
    "* higher `cv`\n",
    "* finer class weight for class 1: np.linspace(1, 20, 30)"
   ]
  },
  {
   "cell_type": "code",
   "execution_count": 9,
   "id": "135af0c5",
   "metadata": {
    "ExecuteTime": {
     "end_time": "2022-02-25T11:45:19.507258Z",
     "start_time": "2022-02-25T11:45:19.494986Z"
    }
   },
   "outputs": [],
   "source": [
    "pl.rcParams['font.size'] = 20\n",
    "\n",
    "def plot_test(df, cols=None):\n",
    "    pl.figure(figsize=(12, 4))\n",
    "    if cols is None:\n",
    "        cols=['mean_train_recall', 'mean_train_precision']\n",
    "        \n",
    "    for score in cols:\n",
    "        pl.plot([_[1] for _ in df['param_class_weight']],\n",
    "                df[score],\n",
    "                label=score\n",
    "               )\n",
    "    pl.legend()\n",
    "    pl.xlabel(\"class weight\")\n",
    "    pl.ylabel(\"scores\")\n",
    "    \n",
    "def plot_train(df, cols=None):\n",
    "    pl.figure(figsize=(12, 4))\n",
    "    if cols is None:\n",
    "        cols=['mean_train_recall', 'mean_train_precision']\n",
    "        \n",
    "    for score in cols:\n",
    "        pl.plot([_[1] for _ in df['param_class_weight']],\n",
    "                df[score.replace('test','train')],\n",
    "                label=score\n",
    "               )\n",
    "    pl.legend()\n",
    "    pl.xlabel(\"class weight\")\n",
    "    pl.ylabel(\"scores\")\n",
    " "
   ]
  },
  {
   "cell_type": "code",
   "execution_count": 10,
   "id": "653d6992",
   "metadata": {
    "ExecuteTime": {
     "end_time": "2022-02-25T11:45:19.781656Z",
     "start_time": "2022-02-25T11:45:19.510065Z"
    }
   },
   "outputs": [
    {
     "data": {
      "image/png": "[encoded data removed]",
      "text/plain": [
       "<Figure size 864x288 with 1 Axes>"
      ]
     },
     "metadata": {
      "needs_background": "light"
     },
     "output_type": "display_data"
    }
   ],
   "source": [
    "df = pd.DataFrame(grid.cv_results_) \n",
    "\n",
    "plot_test(df)   "
   ]
  },
  {
   "cell_type": "code",
   "execution_count": 11,
   "id": "f504ea08",
   "metadata": {
    "ExecuteTime": {
     "end_time": "2022-02-25T11:45:20.009657Z",
     "start_time": "2022-02-25T11:45:19.783101Z"
    }
   },
   "outputs": [
    {
     "data": {
      "image/png": "[encoded data removed]",
      "text/plain": [
       "<Figure size 864x288 with 1 Axes>"
      ]
     },
     "metadata": {
      "needs_background": "light"
     },
     "output_type": "display_data"
    }
   ],
   "source": [
    "df = pd.DataFrame(grid.cv_results_) \n",
    "\n",
    "plot_train(df)"
   ]
  },
  {
   "cell_type": "markdown",
   "id": "5886f637",
   "metadata": {},
   "source": [
    "The balance between recall & precision scores are different for train and test "
   ]
  },
  {
   "cell_type": "markdown",
   "id": "8730b036",
   "metadata": {},
   "source": [
    "### custom metric"
   ]
  },
  {
   "cell_type": "code",
   "execution_count": 12,
   "id": "f52ea8c5",
   "metadata": {
    "ExecuteTime": {
     "end_time": "2022-02-25T11:45:20.013651Z",
     "start_time": "2022-02-25T11:45:20.010896Z"
    }
   },
   "outputs": [],
   "source": [
    "def min_recall_precision(y_true, y_pred):\n",
    "    \"\"\"get minimum of the two\"\"\"\n",
    "    recall = recall_score(y_true, y_pred)\n",
    "    precision = precision_score(y_true, y_pred)\n",
    "    return min(recall, precision)"
   ]
  },
  {
   "cell_type": "code",
   "execution_count": 13,
   "id": "09f6315a",
   "metadata": {
    "ExecuteTime": {
     "end_time": "2022-02-25T11:45:46.131092Z",
     "start_time": "2022-02-25T11:45:20.014920Z"
    }
   },
   "outputs": [
    {
     "data": {
      "text/plain": [
       "GridSearchCV(cv=4, estimator=LogisticRegression(max_iter=1000), n_jobs=-1,\n",
       "             param_grid={'class_weight': [{0: 1, 1: 1}, {0: 1, 1: 2},\n",
       "                                          {0: 1, 1: 3}, {0: 1, 1: 4},\n",
       "                                          {0: 1, 1: 5}, {0: 1, 1: 6},\n",
       "                                          {0: 1, 1: 7}, {0: 1, 1: 8},\n",
       "                                          {0: 1, 1: 9}]},\n",
       "             refit='min_both', return_train_score=True,\n",
       "             scoring={'min_both': make_scorer(min_recall_precision),\n",
       "                      'precision': make_scorer(precision_score),\n",
       "                      'recall': make_scorer(recall_score)})"
      ]
     },
     "execution_count": 13,
     "metadata": {},
     "output_type": "execute_result"
    }
   ],
   "source": [
    "from sklearn.model_selection import GridSearchCV\n",
    "from sklearn.metrics import make_scorer\n",
    "\n",
    "grid = GridSearchCV(\n",
    "    estimator=LogisticRegression(max_iter=1000),\n",
    "    param_grid={'class_weight': [{0: 1, 1: v} for v in range(1,10)]},\n",
    "    scoring={'precision': make_scorer(precision_score),\n",
    "             'recall': make_scorer(recall_score),\n",
    "             #additional\n",
    "             'min_both': make_scorer(min_recall_precision)\n",
    "            },\n",
    "    refit='min_both',\n",
    "    return_train_score=True,\n",
    "    cv=4,\n",
    "    n_jobs=-1\n",
    ")\n",
    "grid.fit(X, y)"
   ]
  },
  {
   "cell_type": "code",
   "execution_count": 14,
   "id": "3477bf0e",
   "metadata": {
    "ExecuteTime": {
     "end_time": "2022-02-25T11:45:46.454855Z",
     "start_time": "2022-02-25T11:45:46.134219Z"
    }
   },
   "outputs": [
    {
     "data": {
      "image/png": "[encoded data removed]",
      "text/plain": [
       "<Figure size 864x288 with 1 Axes>"
      ]
     },
     "metadata": {
      "needs_background": "light"
     },
     "output_type": "display_data"
    }
   ],
   "source": [
    "df = pd.DataFrame(grid.cv_results_) \n",
    "\n",
    "plot_test(df, cols=['mean_test_recall',\n",
    "                    'mean_test_precision',\n",
    "                    'mean_test_min_both'\n",
    "                   ])"
   ]
  },
  {
   "cell_type": "code",
   "execution_count": 15,
   "id": "77d5b0b9",
   "metadata": {
    "ExecuteTime": {
     "end_time": "2022-02-25T11:45:46.695143Z",
     "start_time": "2022-02-25T11:45:46.456851Z"
    }
   },
   "outputs": [
    {
     "data": {
      "image/png": "[encoded data removed]",
      "text/plain": [
       "<Figure size 864x288 with 1 Axes>"
      ]
     },
     "metadata": {
      "needs_background": "light"
     },
     "output_type": "display_data"
    }
   ],
   "source": [
    "plot_train(df, cols=['mean_train_recall',\n",
    "                    'mean_train_precision',\n",
    "                    'mean_train_min_both'\n",
    "                   ])"
   ]
  },
  {
   "cell_type": "raw",
   "id": "76fd6dd4",
   "metadata": {
    "ExecuteTime": {
     "end_time": "2022-02-25T10:51:16.819432Z",
     "start_time": "2022-02-25T10:51:16.794186Z"
    }
   },
   "source": [
    "s = make_scorer(min_recall_precision)\n",
    "s??"
   ]
  },
  {
   "cell_type": "markdown",
   "id": "6ffdc9bd",
   "metadata": {},
   "source": [
    "### sample weight"
   ]
  },
  {
   "cell_type": "markdown",
   "id": "cb4c06e6",
   "metadata": {},
   "source": [
    "add weight on high transaction, log is for numerical stability"
   ]
  },
  {
   "cell_type": "code",
   "execution_count": 16,
   "id": "e5ef0bcd",
   "metadata": {
    "ExecuteTime": {
     "end_time": "2022-02-25T11:46:18.613226Z",
     "start_time": "2022-02-25T11:45:46.697463Z"
    }
   },
   "outputs": [
    {
     "data": {
      "text/plain": [
       "GridSearchCV(cv=4, estimator=LogisticRegression(max_iter=1000), n_jobs=-1,\n",
       "             param_grid={'class_weight': [{0: 1, 1: 1}, {0: 1, 1: 2},\n",
       "                                          {0: 1, 1: 3}, {0: 1, 1: 4},\n",
       "                                          {0: 1, 1: 5}, {0: 1, 1: 6},\n",
       "                                          {0: 1, 1: 7}, {0: 1, 1: 8},\n",
       "                                          {0: 1, 1: 9}]},\n",
       "             refit='min_both', return_train_score=True,\n",
       "             scoring={'min_both': make_scorer(min_recall_precision),\n",
       "                      'precision': make_scorer(precision_score),\n",
       "                      'recall': make_scorer(recall_score)})"
      ]
     },
     "execution_count": 16,
     "metadata": {},
     "output_type": "execute_result"
    }
   ],
   "source": [
    "grid.fit(X, y, sample_weight=np.log(1 + data['Amount']))"
   ]
  },
  {
   "cell_type": "markdown",
   "id": "0e2d4ddd",
   "metadata": {},
   "source": [
    "### detect outliers"
   ]
  },
  {
   "cell_type": "code",
   "execution_count": 17,
   "id": "682db797",
   "metadata": {
    "ExecuteTime": {
     "end_time": "2022-02-25T11:47:30.640375Z",
     "start_time": "2022-02-25T11:47:18.913935Z"
    }
   },
   "outputs": [
    {
     "data": {
      "text/plain": [
       "array([1, 1, 1, ..., 1, 1, 1])"
      ]
     },
     "execution_count": 17,
     "metadata": {},
     "output_type": "execute_result"
    }
   ],
   "source": [
    "from sklearn.ensemble import IsolationForest\n",
    "\n",
    "mod = IsolationForest().fit(X)\n",
    "pred=mod.predict(X)\n",
    "pred"
   ]
  },
  {
   "cell_type": "code",
   "execution_count": 19,
   "id": "52495656",
   "metadata": {
    "ExecuteTime": {
     "end_time": "2022-02-25T11:48:41.082934Z",
     "start_time": "2022-02-25T11:48:33.320832Z"
    }
   },
   "outputs": [
    {
     "data": {
      "text/plain": [
       "Counter({1: 274437, -1: 10370})"
      ]
     },
     "execution_count": 19,
     "metadata": {},
     "output_type": "execute_result"
    }
   ],
   "source": [
    "from collections import Counter\n",
    "\n",
    "Counter(pred)"
   ]
  },
  {
   "cell_type": "markdown",
   "id": "0bb16add",
   "metadata": {},
   "source": [
    "replace 1 for -1 (fraud) and 0 otherwise"
   ]
  },
  {
   "cell_type": "code",
   "execution_count": 20,
   "id": "3f19a180",
   "metadata": {
    "ExecuteTime": {
     "end_time": "2022-02-25T11:49:44.371351Z",
     "start_time": "2022-02-25T11:49:35.777188Z"
    }
   },
   "outputs": [
    {
     "data": {
      "text/plain": [
       "array([0, 0, 0, ..., 0, 0, 0])"
      ]
     },
     "execution_count": 20,
     "metadata": {},
     "output_type": "execute_result"
    }
   ],
   "source": [
    "np.where(pred==-1, 1, 0)"
   ]
  },
  {
   "cell_type": "code",
   "execution_count": null,
   "id": "16f2adfe",
   "metadata": {
    "ExecuteTime": {
     "end_time": "2022-02-25T12:02:34.225522Z",
     "start_time": "2022-02-25T11:54:01.551651Z"
    }
   },
   "outputs": [],
   "source": [
    "from sklearn.model_selection import GridSearchCV\n",
    "\n",
    "\n",
    "def outlier_precision(mod, X, y):\n",
    "    preds = mod.predict(X)\n",
    "    return precision_score(y, np.where(preds==-1, 1, 0))\n",
    "\n",
    "def outlier_recall(mod, X, y):\n",
    "    preds = mod.predict(X)\n",
    "    return recall_score(y, np.where(preds==-1, 1, 0))\n",
    "\n",
    "\n",
    "grid = GridSearchCV(\n",
    "    estimator=IsolationForest(),\n",
    "    #hyperparameter to tune\n",
    "    param_grid={'contamination': np.linspace(0.001, 0.02, 10)},\n",
    "    scoring={'precision': outlier_precision,\n",
    "             'recall': outlier_recall},\n",
    "    refit='precision',\n",
    "    return_train_score=True,\n",
    "    cv=5,\n",
    "    n_jobs=-1\n",
    ")\n",
    "grid.fit(X, y)"
   ]
  },
  {
   "cell_type": "code",
   "execution_count": null,
   "id": "d7a56715",
   "metadata": {
    "ExecuteTime": {
     "end_time": "2022-02-25T12:02:34.228010Z",
     "start_time": "2022-02-25T11:56:12.441Z"
    }
   },
   "outputs": [],
   "source": [
    "df = pd.DataFrame(grid.cv_results_) \n",
    "\n",
    "plot_test(df)"
   ]
  },
  {
   "cell_type": "code",
   "execution_count": null,
   "id": "d44c9145",
   "metadata": {
    "ExecuteTime": {
     "end_time": "2022-02-25T12:02:34.229155Z",
     "start_time": "2022-02-25T11:56:12.919Z"
    }
   },
   "outputs": [],
   "source": [
    "plot_train(df)"
   ]
  },
  {
   "cell_type": "markdown",
   "id": "46016785",
   "metadata": {},
   "source": [
    "## meta estimators"
   ]
  },
  {
   "cell_type": "code",
   "execution_count": null,
   "id": "d0f140f8",
   "metadata": {},
   "outputs": [],
   "source": []
  }
 ],
 "metadata": {
  "kernelspec": {
   "display_name": "Python 3",
   "language": "python",
   "name": "python3"
  },
  "language_info": {
   "codemirror_mode": {
    "name": "ipython",
    "version": 3
   },
   "file_extension": ".py",
   "mimetype": "text/x-python",
   "name": "python",
   "nbconvert_exporter": "python",
   "pygments_lexer": "ipython3",
   "version": "3.6.13"
  },
  "toc": {
   "base_numbering": 1,
   "nav_menu": {},
   "number_sections": true,
   "sideBar": true,
   "skip_h1_title": false,
   "title_cell": "Table of Contents",
   "title_sidebar": "Contents",
   "toc_cell": false,
   "toc_position": {},
   "toc_section_display": true,
   "toc_window_display": true
  }
 },
 "nbformat": 4,
 "nbformat_minor": 5
}
